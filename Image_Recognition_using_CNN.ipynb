{
  "cells": [
    {
      "cell_type": "markdown",
      "metadata": {
        "id": "view-in-github",
        "colab_type": "text"
      },
      "source": [
        "<a href=\"https://colab.research.google.com/github/Nabanita29/Research/blob/main/Image_Recognition_using_CNN.ipynb\" target=\"_parent\"><img src=\"https://colab.research.google.com/assets/colab-badge.svg\" alt=\"Open In Colab\"/></a>"
      ]
    },
    {
      "metadata": {
        "id": "UKZORd_7ErK_"
      },
      "cell_type": "markdown",
      "source": [
        "# <a id=\"top_section\"></a>\n",
        "\n",
        "<div align='center'><font size=\"6\" color=\"#000000\"><b> Image Recognition using CNN </b></font></div>\n",
        "<hr>\n",
        "<div align='center'><font size=\"5\" color=\"#000000\">Introduction</font></div>\n",
        "<hr>\n",
        "\n",
        "<br><br>\n",
        "In this notebook we will build a Digit Recognizer using Convolutional Neural Network(CNN) and will try to explain each step.\n",
        "\n",
        "### Project Made by\n",
        "\n",
        "\n",
        "\n",
        "1.   Nabanita Chatterjee 21csu057\n",
        "2.   Himanshi 21csu038\n",
        "3.   Hemant Naidu 21csu037\n",
        "\n",
        "\n",
        "\n",
        "\n",
        "\n",
        "\n"
      ]
    },
    {
      "metadata": {
        "id": "EmfctZgqErLA"
      },
      "cell_type": "markdown",
      "source": [
        "![Image Recognier](https://miro.medium.com/max/372/1*AO2rIhzRYzFVQlFLx9DM9A.png)"
      ]
    },
    {
      "metadata": {
        "id": "kR4HkgJvErLA"
      },
      "cell_type": "markdown",
      "source": [
        "<a id=\"section1\"></a>\n",
        "## Importing the libraries and Data\n"
      ]
    },
    {
      "metadata": {
        "trusted": true,
        "id": "yL-yfd6MErLA"
      },
      "cell_type": "code",
      "source": [
        "\n",
        "import numpy as np\n",
        "import pandas as pd\n",
        "import matplotlib.pyplot as plt\n",
        "import seaborn as sns\n",
        "%matplotlib inline\n",
        "sns.set_style()\n",
        "\n",
        "# to divide our data into train and validation set\n",
        "from sklearn.model_selection import train_test_split\n",
        "#to encode our labels\n",
        "from tensorflow.keras.utils import to_categorical\n",
        "#to build our model\n",
        "from tensorflow.keras.models import Sequential\n",
        "from tensorflow.keras.layers import Dense,Conv2D,MaxPool2D,Flatten,Dropout\n",
        "# Our optimizer options\n",
        "from keras.optimizers import RMSprop\n",
        "from keras.optimizers import Adam\n",
        "#Callback options\n",
        "from tensorflow.keras.callbacks import EarlyStopping\n",
        "from keras.callbacks import ReduceLROnPlateau\n",
        "#importing image data generator for data augmentation\n",
        "from tensorflow.keras.preprocessing.image import ImageDataGenerator\n",
        "#for the final prediction report\n",
        "from sklearn.metrics import classification_report ,confusion_matrix"
      ],
      "execution_count": 2,
      "outputs": []
    },
    {
      "metadata": {
        "trusted": true,
        "id": "V1sIUCSYErLA",
        "colab": {
          "base_uri": "https://localhost:8080/"
        },
        "outputId": "507d88a6-3992-4160-b0cf-268370a485dc"
      },
      "cell_type": "code",
      "source": [
        "train =pd.read_csv('../input/digit-recognizer/train.csv')\n",
        "test=pd.read_csv('../input/digit-recognizer/test.csv')\n",
        "y_train=train['label']\n",
        "print(f'The size of training data is {train.shape[0]} and that of test data is {test.shape[0]}')"
      ],
      "execution_count": 3,
      "outputs": [
        {
          "output_type": "stream",
          "name": "stdout",
          "text": [
            "The size of training data is 42000 and that of test data is 28000\n"
          ]
        }
      ]
    },
    {
      "metadata": {
        "trusted": true,
        "id": "XHDNU0EKErLB",
        "colab": {
          "base_uri": "https://localhost:8080/"
        },
        "outputId": "36b71a09-c23b-44b1-f1bc-01c44f37d31e"
      },
      "cell_type": "code",
      "source": [
        "y_train"
      ],
      "execution_count": 4,
      "outputs": [
        {
          "output_type": "execute_result",
          "data": {
            "text/plain": [
              "0        1\n",
              "1        0\n",
              "2        1\n",
              "3        4\n",
              "4        0\n",
              "        ..\n",
              "41995    0\n",
              "41996    1\n",
              "41997    7\n",
              "41998    6\n",
              "41999    9\n",
              "Name: label, Length: 42000, dtype: int64"
            ]
          },
          "metadata": {},
          "execution_count": 4
        }
      ]
    },
    {
      "metadata": {
        "trusted": true,
        "id": "QAcgiBVIErLB",
        "colab": {
          "base_uri": "https://localhost:8080/"
        },
        "outputId": "fc9e9f9d-d385-47bd-b6f7-6d963aea8d6c"
      },
      "cell_type": "code",
      "source": [
        "x_train=train.drop('label',axis=1).values\n",
        "x_train"
      ],
      "execution_count": 5,
      "outputs": [
        {
          "output_type": "execute_result",
          "data": {
            "text/plain": [
              "array([[0, 0, 0, ..., 0, 0, 0],\n",
              "       [0, 0, 0, ..., 0, 0, 0],\n",
              "       [0, 0, 0, ..., 0, 0, 0],\n",
              "       ...,\n",
              "       [0, 0, 0, ..., 0, 0, 0],\n",
              "       [0, 0, 0, ..., 0, 0, 0],\n",
              "       [0, 0, 0, ..., 0, 0, 0]])"
            ]
          },
          "metadata": {},
          "execution_count": 5
        }
      ]
    },
    {
      "metadata": {
        "id": "gJ7A-BQeErLB"
      },
      "cell_type": "markdown",
      "source": [
        "Let's just see a random image from our dataset\n",
        "- We will use the imshow(image show) function of matplotlib library here.\n",
        "- we will reshape it to a image size that is 28 * 28 so that we can plot it from 728."
      ]
    },
    {
      "metadata": {
        "trusted": true,
        "id": "FxqJK2MdErLB",
        "colab": {
          "base_uri": "https://localhost:8080/",
          "height": 430
        },
        "outputId": "bb28f6e6-b8e1-402b-a984-808368436573"
      },
      "cell_type": "code",
      "source": [
        "plt.imshow(x_train[41999].reshape(28,28),cmap='binary')\n",
        "plt.show()"
      ],
      "execution_count": 6,
      "outputs": [
        {
          "output_type": "display_data",
          "data": {
            "text/plain": [
              "<Figure size 640x480 with 1 Axes>"
            ],
            "image/png": "[encoded data removed]"
          },
          "metadata": {}
        }
      ]
    },
    {
      "metadata": {
        "id": "IO1jHFzkErLC"
      },
      "cell_type": "markdown",
      "source": [
        "<a id=\"section3\"></a>\n",
        "## Shaping our data\n"
      ]
    },
    {
      "metadata": {
        "id": "6IhS6_GOErLC"
      },
      "cell_type": "markdown",
      "source": [
        "Now we will reshape the whole x_train dataset."
      ]
    },
    {
      "metadata": {
        "trusted": true,
        "id": "51yU0WWRErLC"
      },
      "cell_type": "code",
      "source": [
        "x_train=x_train.reshape(42000,28,28)"
      ],
      "execution_count": 7,
      "outputs": []
    },
    {
      "metadata": {
        "trusted": true,
        "id": "rn9V9nhZErLC",
        "colab": {
          "base_uri": "https://localhost:8080/"
        },
        "outputId": "03fbc059-f0e1-4b87-91d6-2f9fbb46a222"
      },
      "cell_type": "code",
      "source": [
        "x_train.shape"
      ],
      "execution_count": 8,
      "outputs": [
        {
          "output_type": "execute_result",
          "data": {
            "text/plain": [
              "(42000, 28, 28)"
            ]
          },
          "metadata": {},
          "execution_count": 8
        }
      ]
    },
    {
      "metadata": {
        "id": "HWOycuEsErLC"
      },
      "cell_type": "markdown",
      "source": [
        "Let's split our data into training and validation set , we will use the train_test_split function of sklearn library for this step."
      ]
    },
    {
      "metadata": {
        "id": "NKcE7plHErLC"
      },
      "cell_type": "markdown",
      "source": [
        "![Data splitting chart](https://i.stack.imgur.com/pXAfX.png)"
      ]
    },
    {
      "metadata": {
        "trusted": true,
        "id": "VsFfzXCFErLC"
      },
      "cell_type": "code",
      "source": [
        "\n",
        "x_train,x_val,y_train,y_val=train_test_split(x_train,y_train,test_size=0.10,random_state=19)"
      ],
      "execution_count": 9,
      "outputs": []
    },
    {
      "metadata": {
        "trusted": true,
        "id": "_gbzaiXIErLC",
        "colab": {
          "base_uri": "https://localhost:8080/"
        },
        "outputId": "5a10f9dd-ac53-46b5-f05f-af7c3d2308ea"
      },
      "cell_type": "code",
      "source": [
        "print(f'The training set has {x_train.shape[0]} images and the validation set has {x_val.shape[0]} images')"
      ],
      "execution_count": 10,
      "outputs": [
        {
          "output_type": "stream",
          "name": "stdout",
          "text": [
            "The training set has 37800 images and the validation set has 4200 images\n"
          ]
        }
      ]
    },
    {
      "metadata": {
        "id": "2XZY3qjHErLC"
      },
      "cell_type": "markdown",
      "source": [
        "<a id=\"section4\"></a>\n",
        "## Encoding the Label column\n"
      ]
    },
    {
      "metadata": {
        "id": "l0aj6QysErLC"
      },
      "cell_type": "markdown",
      "source": [
        "As our label column has 10 possible values(0-9) we will encode it using the to_categorical function from the keras.\n",
        "- We will use num_classes as 10 , as that is how many possible values the column can have."
      ]
    },
    {
      "metadata": {
        "trusted": true,
        "id": "VaRrR3TBErLC"
      },
      "cell_type": "code",
      "source": [
        "y_cat_train=to_categorical(y_train,num_classes=10)\n",
        "y_cat_val=to_categorical(y_val,num_classes=10)"
      ],
      "execution_count": 11,
      "outputs": []
    },
    {
      "metadata": {
        "trusted": true,
        "id": "L7zEWZCDErLD",
        "colab": {
          "base_uri": "https://localhost:8080/",
          "height": 460
        },
        "outputId": "aa68200b-23af-4f81-9275-1990516b71d1"
      },
      "cell_type": "code",
      "source": [
        "random_image=x_train[78]\n",
        "random_label=y_train[78]\n",
        "plt.imshow(random_image,cmap='binary')\n",
        "plt.title(random_label,fontsize=20,weight='bold',color='red')\n",
        "plt.show()"
      ],
      "execution_count": 12,
      "outputs": [
        {
          "output_type": "display_data",
          "data": {
            "text/plain": [
              "<Figure size 640x480 with 1 Axes>"
            ],
            "image/png": "[encoded data removed]"
          },
          "metadata": {}
        }
      ]
    },
    {
      "metadata": {
        "id": "AlXOL9iZErLD"
      },
      "cell_type": "markdown",
      "source": [
        "<a id=\"section3\"></a>\n",
        "## Scaling our data\n"
      ]
    },
    {
      "metadata": {
        "id": "q7cfKeWgErLD"
      },
      "cell_type": "markdown",
      "source": [
        "Let's see what is the range of our data for the images. Simply the (max-min) value is range."
      ]
    },
    {
      "metadata": {
        "trusted": true,
        "id": "GWnafx7BErLD",
        "colab": {
          "base_uri": "https://localhost:8080/"
        },
        "outputId": "9451dcd4-6028-40d3-9c0e-e153f092e065"
      },
      "cell_type": "code",
      "source": [
        "random_image.max()"
      ],
      "execution_count": 13,
      "outputs": [
        {
          "output_type": "execute_result",
          "data": {
            "text/plain": [
              "255"
            ]
          },
          "metadata": {},
          "execution_count": 13
        }
      ]
    },
    {
      "metadata": {
        "trusted": true,
        "id": "-wdnKdERErLD",
        "colab": {
          "base_uri": "https://localhost:8080/"
        },
        "outputId": "3edfdab8-b5bb-4789-d2d2-e9126f30ec60"
      },
      "cell_type": "code",
      "source": [
        "random_image.min()"
      ],
      "execution_count": 14,
      "outputs": [
        {
          "output_type": "execute_result",
          "data": {
            "text/plain": [
              "0"
            ]
          },
          "metadata": {},
          "execution_count": 14
        }
      ]
    },
    {
      "metadata": {
        "id": "PX2KMYwHErLD"
      },
      "cell_type": "markdown",
      "source": [
        "Clearly 255 is the range , so we will now use this value to scale our data !"
      ]
    },
    {
      "metadata": {
        "trusted": true,
        "id": "XQaMlpFFErLD"
      },
      "cell_type": "code",
      "source": [
        "x_train_scaled=x_train/255\n",
        "x_val_scaled=x_val/255"
      ],
      "execution_count": 15,
      "outputs": []
    },
    {
      "metadata": {
        "trusted": true,
        "id": "6gcisr_mErLD",
        "colab": {
          "base_uri": "https://localhost:8080/",
          "height": 460
        },
        "outputId": "a1051d0b-da26-462d-ed15-56e099f4a547"
      },
      "cell_type": "code",
      "source": [
        "plt.imshow(x_train_scaled[78],cmap='binary')\n",
        "plt.title(y_train[78],fontsize=20,weight='bold',color='red')\n",
        "plt.show()"
      ],
      "execution_count": 16,
      "outputs": [
        {
          "output_type": "display_data",
          "data": {
            "text/plain": [
              "<Figure size 640x480 with 1 Axes>"
            ],
            "image/png": "[encoded data removed]"
          },
          "metadata": {}
        }
      ]
    },
    {
      "metadata": {
        "trusted": true,
        "id": "e2RAQ07SErLD"
      },
      "cell_type": "code",
      "source": [
        "x_train_final = x_train_scaled.reshape(x_train_scaled.shape[0],28,28,1)\n",
        "x_val_final = x_val_scaled.reshape(x_val_scaled.shape[0],28,28,1)"
      ],
      "execution_count": 17,
      "outputs": []
    },
    {
      "metadata": {
        "id": "dZaytTDaErLE"
      },
      "cell_type": "markdown",
      "source": [
        "<a id=\"section6\"></a>\n",
        "## Building our CNN Model\n"
      ]
    },
    {
      "metadata": {
        "id": "vaX-HXCeErLE"
      },
      "cell_type": "markdown",
      "source": [
        "<a id=\"section7\"></a>\n",
        "## Choosing an optimizer\n"
      ]
    },
    {
      "metadata": {
        "id": "BROfJkH7ErLE"
      },
      "cell_type": "markdown",
      "source": [
        "Let's use RMSprop optimizer by :\n",
        "- Setting learning rate to 0.001\n",
        "- The value of rho to 0.9\n",
        "- Epsilon to 10^-8\n",
        "- Decay to zero\n"
      ]
    },
    {
      "metadata": {
        "trusted": true,
        "id": "3Y5TucenErLE"
      },
      "cell_type": "code",
      "source": [
        "from keras.optimizers import RMSprop\n",
        "\n",
        "optimizer = RMSprop(learning_rate=0.001, rho=0.9, epsilon=1e-08)\n"
      ],
      "execution_count": 18,
      "outputs": []
    },
    {
      "metadata": {
        "id": "vXEpXUQeErLE"
      },
      "cell_type": "markdown",
      "source": [
        "<a id=\"section8\"></a>\n",
        "## Building our model"
      ]
    },
    {
      "metadata": {
        "id": "p4NH5SL6ErLE"
      },
      "cell_type": "markdown",
      "source": [
        "\n",
        "> Start with a base model , and change a little bit and continue doing so , stop when you get better results."
      ]
    },
    {
      "metadata": {
        "trusted": true,
        "id": "SLtv88D6ErLE"
      },
      "cell_type": "code",
      "source": [
        "model=Sequential()\n",
        "model.add(Conv2D(filters=32,kernel_size=(5,5),strides=(1,1),input_shape=(28,28,1),padding='Same',activation='relu'))\n",
        "model.add(Conv2D(filters=32,kernel_size=(5,5),strides=(1,1),input_shape=(28,28,1),padding='Same',activation='relu'))\n",
        "model.add(MaxPool2D(pool_size=(2,2)))\n",
        "model.add(Dropout(0.25))\n",
        "\n",
        "model.add(Conv2D(filters=64,kernel_size=(3,3),strides=(1,1),input_shape=(28,28,1),padding='Same',activation='relu'))\n",
        "model.add(Conv2D(filters=64,kernel_size=(3,3),strides=(1,1),input_shape=(28,28,1),padding='Same',activation='relu'))\n",
        "model.add(MaxPool2D(pool_size=(2,2)))\n",
        "model.add(Dropout(0.25))\n",
        "\n",
        "model.add(Flatten())\n",
        "model.add(Dense(256,activation='relu'))\n",
        "model.add(Dropout(0.5))\n",
        "model.add(Dense(10,activation='softmax'))\n",
        "\n",
        "model.compile(loss='categorical_crossentropy',optimizer='adam',metrics=['accuracy'])"
      ],
      "execution_count": 19,
      "outputs": []
    },
    {
      "metadata": {
        "id": "8KF8W1VFErLF"
      },
      "cell_type": "markdown",
      "source": [
        "<a id=\"section9\"></a>\n",
        "## Choosing a callback\n"
      ]
    },
    {
      "metadata": {
        "id": "zGIWreG1ErLF"
      },
      "cell_type": "markdown",
      "source": [
        "There are two call-back techniques that we tried :\n",
        "- [Earlystop]: A basic technique which stops training when a monitored metric has stopped improving.\n",
        "- [ReduceLRonPlateau] : A more advance technique than early stop which reduces learning rate when a metric has stopped improving."
      ]
    },
    {
      "metadata": {
        "trusted": true,
        "id": "5TObzqBeErLF"
      },
      "cell_type": "code",
      "source": [
        "\n",
        "early_stop= EarlyStopping(monitor='val_loss',patience=2)"
      ],
      "execution_count": 20,
      "outputs": []
    },
    {
      "metadata": {
        "trusted": true,
        "id": "AZVjBlsCErLF"
      },
      "cell_type": "code",
      "source": [
        "learning_rate_reduction = ReduceLROnPlateau(monitor='val_accuracy',\n",
        "                                            patience=3,\n",
        "                                            verbose=1,\n",
        "                                            factor=0.5,\n",
        "                                            min_lr=0.00001)"
      ],
      "execution_count": 21,
      "outputs": []
    },
    {
      "metadata": {
        "id": "Q9CAbRCvErLF"
      },
      "cell_type": "markdown",
      "source": [
        "<a id=\"section10\"></a>\n",
        "## Data Augmentation"
      ]
    },
    {
      "metadata": {
        "id": "90j1N9nUErLG"
      },
      "cell_type": "markdown",
      "source": [
        "- Data augmentation is a strategy that enables practitioners to significantly increase the diversity of data available for training models, without actually collecting new data. Data augmentation techniques such as cropping, padding, and horizontal flipping are commonly used to train large neural networks.\n"
      ]
    },
    {
      "metadata": {
        "id": "6nxbEpsvErLG"
      },
      "cell_type": "markdown",
      "source": [
        "We used ImageDataGenerator function from keras here for data augmentation ,and have set the range for different features as below:\n",
        "- Rotation : 10\n",
        "- Width : 10%\n",
        "- Height : 10%\n",
        "- Sheer : 10 %\n",
        "- Zoom : 10%"
      ]
    },
    {
      "metadata": {
        "trusted": true,
        "id": "lxcJ9i0pErLG"
      },
      "cell_type": "code",
      "source": [
        "image_gen=ImageDataGenerator(rotation_range=10,width_shift_range=0.1,height_shift_range=0.1,shear_range=0.1,zoom_range=0.1,fill_mode='nearest')"
      ],
      "execution_count": 22,
      "outputs": []
    },
    {
      "metadata": {
        "id": "HXt9YEN3ErLG"
      },
      "cell_type": "markdown",
      "source": [
        "Now let's call the image_gen we created !"
      ]
    },
    {
      "metadata": {
        "trusted": true,
        "id": "iZhCMHo4ErLG"
      },
      "cell_type": "code",
      "source": [
        "train_image_gen=image_gen.fit(x_train_final)"
      ],
      "execution_count": 23,
      "outputs": []
    },
    {
      "metadata": {
        "trusted": true,
        "id": "a6m5oDRtErLH"
      },
      "cell_type": "code",
      "source": [
        "train_image_gen"
      ],
      "execution_count": 24,
      "outputs": []
    },
    {
      "metadata": {
        "id": "eziopuOpErLH"
      },
      "cell_type": "markdown",
      "source": [
        "<a id=\"section11\"></a>\n",
        "## Training our Model !"
      ]
    },
    {
      "metadata": {
        "id": "JC7nSdnzErLH"
      },
      "cell_type": "markdown",
      "source": [
        "Now we will be training the model.\n"
      ]
    },
    {
      "metadata": {
        "trusted": true,
        "id": "nm4oJoJmErLH"
      },
      "cell_type": "code",
      "source": [
        "epoch= 15"
      ],
      "execution_count": 25,
      "outputs": []
    },
    {
      "metadata": {
        "trusted": true,
        "id": "U6R5whMPErLH",
        "colab": {
          "base_uri": "https://localhost:8080/"
        },
        "outputId": "4a9c6da5-512a-4f19-d4b9-9e2b4fb8b333"
      },
      "cell_type": "code",
      "source": [
        "model.fit_generator(image_gen.flow(x_train_final,y_cat_train),epochs=epoch,validation_data=(x_val_final,y_cat_val),callbacks=[learning_rate_reduction])"
      ],
      "execution_count": 26,
      "outputs": [
        {
          "output_type": "stream",
          "name": "stderr",
          "text": [
            "<ipython-input-26-a9ccd47e7242>:1: UserWarning: `Model.fit_generator` is deprecated and will be removed in a future version. Please use `Model.fit`, which supports generators.\n",
            "  model.fit_generator(image_gen.flow(x_train_final,y_cat_train),epochs=epoch,validation_data=(x_val_final,y_cat_val),callbacks=[learning_rate_reduction])\n"
          ]
        },
        {
          "output_type": "stream",
          "name": "stdout",
          "text": [
            "Epoch 1/15\n",
            "1182/1182 [==============================] - 268s 222ms/step - loss: 0.3330 - accuracy: 0.8938 - val_loss: 0.0596 - val_accuracy: 0.9826 - lr: 0.0010\n",
            "Epoch 2/15\n",
            "1182/1182 [==============================] - 258s 219ms/step - loss: 0.1219 - accuracy: 0.9639 - val_loss: 0.0366 - val_accuracy: 0.9888 - lr: 0.0010\n",
            "Epoch 3/15\n",
            "1182/1182 [==============================] - 252s 214ms/step - loss: 0.0936 - accuracy: 0.9729 - val_loss: 0.0320 - val_accuracy: 0.9895 - lr: 0.0010\n",
            "Epoch 4/15\n",
            "1182/1182 [==============================] - 254s 215ms/step - loss: 0.0817 - accuracy: 0.9767 - val_loss: 0.0309 - val_accuracy: 0.9888 - lr: 0.0010\n",
            "Epoch 5/15\n",
            "1182/1182 [==============================] - 263s 222ms/step - loss: 0.0698 - accuracy: 0.9791 - val_loss: 0.0270 - val_accuracy: 0.9905 - lr: 0.0010\n",
            "Epoch 6/15\n",
            "1182/1182 [==============================] - 251s 212ms/step - loss: 0.0653 - accuracy: 0.9803 - val_loss: 0.0267 - val_accuracy: 0.9943 - lr: 0.0010\n",
            "Epoch 7/15\n",
            "1182/1182 [==============================] - 255s 216ms/step - loss: 0.0610 - accuracy: 0.9821 - val_loss: 0.0253 - val_accuracy: 0.9931 - lr: 0.0010\n",
            "Epoch 8/15\n",
            "1182/1182 [==============================] - 255s 216ms/step - loss: 0.0584 - accuracy: 0.9833 - val_loss: 0.0291 - val_accuracy: 0.9910 - lr: 0.0010\n",
            "Epoch 9/15\n",
            "1182/1182 [==============================] - 264s 224ms/step - loss: 0.0587 - accuracy: 0.9826 - val_loss: 0.0223 - val_accuracy: 0.9948 - lr: 0.0010\n",
            "Epoch 10/15\n",
            "1182/1182 [==============================] - 249s 210ms/step - loss: 0.0497 - accuracy: 0.9853 - val_loss: 0.0381 - val_accuracy: 0.9905 - lr: 0.0010\n",
            "Epoch 11/15\n",
            "1182/1182 [==============================] - 251s 213ms/step - loss: 0.0495 - accuracy: 0.9857 - val_loss: 0.0289 - val_accuracy: 0.9933 - lr: 0.0010\n",
            "Epoch 12/15\n",
            "1182/1182 [==============================] - ETA: 0s - loss: 0.0508 - accuracy: 0.9847\n",
            "Epoch 12: ReduceLROnPlateau reducing learning rate to 0.0005000000237487257.\n",
            "1182/1182 [==============================] - 260s 220ms/step - loss: 0.0508 - accuracy: 0.9847 - val_loss: 0.0294 - val_accuracy: 0.9912 - lr: 0.0010\n",
            "Epoch 13/15\n",
            "1182/1182 [==============================] - 255s 216ms/step - loss: 0.0343 - accuracy: 0.9896 - val_loss: 0.0308 - val_accuracy: 0.9914 - lr: 5.0000e-04\n",
            "Epoch 14/15\n",
            "1182/1182 [==============================] - 257s 217ms/step - loss: 0.0320 - accuracy: 0.9905 - val_loss: 0.0240 - val_accuracy: 0.9948 - lr: 5.0000e-04\n",
            "Epoch 15/15\n",
            "1182/1182 [==============================] - ETA: 0s - loss: 0.0307 - accuracy: 0.9908\n",
            "Epoch 15: ReduceLROnPlateau reducing learning rate to 0.0002500000118743628.\n",
            "1182/1182 [==============================] - 253s 214ms/step - loss: 0.0307 - accuracy: 0.9908 - val_loss: 0.0281 - val_accuracy: 0.9929 - lr: 5.0000e-04\n"
          ]
        },
        {
          "output_type": "execute_result",
          "data": {
            "text/plain": [
              "<keras.src.callbacks.History at 0x7e46620f75b0>"
            ]
          },
          "metadata": {},
          "execution_count": 26
        }
      ]
    },
    {
      "metadata": {
        "id": "dswI9FjUErLH"
      },
      "cell_type": "markdown",
      "source": [
        "<a id=\"section12\"></a>\n",
        "## Accuracy and Loss plots"
      ]
    },
    {
      "metadata": {
        "trusted": true,
        "id": "wWRdXnIOErLI",
        "colab": {
          "base_uri": "https://localhost:8080/",
          "height": 519
        },
        "outputId": "040b2b9c-7611-416e-b17d-a283318315ef"
      },
      "cell_type": "code",
      "source": [
        "metrics=pd.DataFrame(model.history.history)\n",
        "metrics"
      ],
      "execution_count": 27,
      "outputs": [
        {
          "output_type": "execute_result",
          "data": {
            "text/plain": [
              "        loss  accuracy  val_loss  val_accuracy      lr\n",
              "0   0.333026  0.893757  0.059580      0.982619  0.0010\n",
              "1   0.121861  0.963915  0.036572      0.988810  0.0010\n",
              "2   0.093649  0.972910  0.031960      0.989524  0.0010\n",
              "3   0.081656  0.976667  0.030866      0.988810  0.0010\n",
              "4   0.069819  0.979074  0.027000      0.990476  0.0010\n",
              "5   0.065308  0.980344  0.026665      0.994286  0.0010\n",
              "6   0.061005  0.982090  0.025310      0.993095  0.0010\n",
              "7   0.058380  0.983333  0.029092      0.990952  0.0010\n",
              "8   0.058742  0.982566  0.022325      0.994762  0.0010\n",
              "9   0.049722  0.985265  0.038092      0.990476  0.0010\n",
              "10  0.049543  0.985714  0.028949      0.993333  0.0010\n",
              "11  0.050775  0.984735  0.029446      0.991190  0.0010\n",
              "12  0.034291  0.989550  0.030822      0.991429  0.0005\n",
              "13  0.031990  0.990476  0.023992      0.994762  0.0005\n",
              "14  0.030714  0.990794  0.028112      0.992857  0.0005"
            ],
            "text/html": [
              "\n",
              "  <div id=\"df-8189ee27-1532-493d-b825-1a98073802fb\" class=\"colab-df-container\">\n",
              "    <div>\n",
              "<style scoped>\n",
              "    .dataframe tbody tr th:only-of-type {\n",
              "        vertical-align: middle;\n",
              "    }\n",
              "\n",
              "    .dataframe tbody tr th {\n",
              "        vertical-align: top;\n",
              "    }\n",
              "\n",
              "    .dataframe thead th {\n",
              "        text-align: right;\n",
              "    }\n",
              "</style>\n",
              "<table border=\"1\" class=\"dataframe\">\n",
              "  <thead>\n",
              "    <tr style=\"text-align: right;\">\n",
              "      <th></th>\n",
              "      <th>loss</th>\n",
              "      <th>accuracy</th>\n",
              "      <th>val_loss</th>\n",
              "      <th>val_accuracy</th>\n",
              "      <th>lr</th>\n",
              "    </tr>\n",
              "  </thead>\n",
              "  <tbody>\n",
              "    <tr>\n",
              "      <th>0</th>\n",
              "      <td>0.333026</td>\n",
              "      <td>0.893757</td>\n",
              "      <td>0.059580</td>\n",
              "      <td>0.982619</td>\n",
              "      <td>0.0010</td>\n",
              "    </tr>\n",
              "    <tr>\n",
              "      <th>1</th>\n",
              "      <td>0.121861</td>\n",
              "      <td>0.963915</td>\n",
              "      <td>0.036572</td>\n",
              "      <td>0.988810</td>\n",
              "      <td>0.0010</td>\n",
              "    </tr>\n",
              "    <tr>\n",
              "      <th>2</th>\n",
              "      <td>0.093649</td>\n",
              "      <td>0.972910</td>\n",
              "      <td>0.031960</td>\n",
              "      <td>0.989524</td>\n",
              "      <td>0.0010</td>\n",
              "    </tr>\n",
              "    <tr>\n",
              "      <th>3</th>\n",
              "      <td>0.081656</td>\n",
              "      <td>0.976667</td>\n",
              "      <td>0.030866</td>\n",
              "      <td>0.988810</td>\n",
              "      <td>0.0010</td>\n",
              "    </tr>\n",
              "    <tr>\n",
              "      <th>4</th>\n",
              "      <td>0.069819</td>\n",
              "      <td>0.979074</td>\n",
              "      <td>0.027000</td>\n",
              "      <td>0.990476</td>\n",
              "      <td>0.0010</td>\n",
              "    </tr>\n",
              "    <tr>\n",
              "      <th>5</th>\n",
              "      <td>0.065308</td>\n",
              "      <td>0.980344</td>\n",
              "      <td>0.026665</td>\n",
              "      <td>0.994286</td>\n",
              "      <td>0.0010</td>\n",
              "    </tr>\n",
              "    <tr>\n",
              "      <th>6</th>\n",
              "      <td>0.061005</td>\n",
              "      <td>0.982090</td>\n",
              "      <td>0.025310</td>\n",
              "      <td>0.993095</td>\n",
              "      <td>0.0010</td>\n",
              "    </tr>\n",
              "    <tr>\n",
              "      <th>7</th>\n",
              "      <td>0.058380</td>\n",
              "      <td>0.983333</td>\n",
              "      <td>0.029092</td>\n",
              "      <td>0.990952</td>\n",
              "      <td>0.0010</td>\n",
              "    </tr>\n",
              "    <tr>\n",
              "      <th>8</th>\n",
              "      <td>0.058742</td>\n",
              "      <td>0.982566</td>\n",
              "      <td>0.022325</td>\n",
              "      <td>0.994762</td>\n",
              "      <td>0.0010</td>\n",
              "    </tr>\n",
              "    <tr>\n",
              "      <th>9</th>\n",
              "      <td>0.049722</td>\n",
              "      <td>0.985265</td>\n",
              "      <td>0.038092</td>\n",
              "      <td>0.990476</td>\n",
              "      <td>0.0010</td>\n",
              "    </tr>\n",
              "    <tr>\n",
              "      <th>10</th>\n",
              "      <td>0.049543</td>\n",
              "      <td>0.985714</td>\n",
              "      <td>0.028949</td>\n",
              "      <td>0.993333</td>\n",
              "      <td>0.0010</td>\n",
              "    </tr>\n",
              "    <tr>\n",
              "      <th>11</th>\n",
              "      <td>0.050775</td>\n",
              "      <td>0.984735</td>\n",
              "      <td>0.029446</td>\n",
              "      <td>0.991190</td>\n",
              "      <td>0.0010</td>\n",
              "    </tr>\n",
              "    <tr>\n",
              "      <th>12</th>\n",
              "      <td>0.034291</td>\n",
              "      <td>0.989550</td>\n",
              "      <td>0.030822</td>\n",
              "      <td>0.991429</td>\n",
              "      <td>0.0005</td>\n",
              "    </tr>\n",
              "    <tr>\n",
              "      <th>13</th>\n",
              "      <td>0.031990</td>\n",
              "      <td>0.990476</td>\n",
              "      <td>0.023992</td>\n",
              "      <td>0.994762</td>\n",
              "      <td>0.0005</td>\n",
              "    </tr>\n",
              "    <tr>\n",
              "      <th>14</th>\n",
              "      <td>0.030714</td>\n",
              "      <td>0.990794</td>\n",
              "      <td>0.028112</td>\n",
              "      <td>0.992857</td>\n",
              "      <td>0.0005</td>\n",
              "    </tr>\n",
              "  </tbody>\n",
              "</table>\n",
              "</div>\n",
              "    <div class=\"colab-df-buttons\">\n",
              "\n",
              "  <div class=\"colab-df-container\">\n",
              "    <button class=\"colab-df-convert\" onclick=\"convertToInteractive('df-8189ee27-1532-493d-b825-1a98073802fb')\"\n",
              "            title=\"Convert this dataframe to an interactive table.\"\n",
              "            style=\"display:none;\">\n",
              "\n",
              "  <svg xmlns=\"http://www.w3.org/2000/svg\" height=\"24px\" viewBox=\"0 -960 960 960\">\n",
              "    <path d=\"M120-120v-720h720v720H120Zm60-500h600v-160H180v160Zm220 220h160v-160H400v160Zm0 220h160v-160H400v160ZM180-400h160v-160H180v160Zm440 0h160v-160H620v160ZM180-180h160v-160H180v160Zm440 0h160v-160H620v160Z\"/>\n",
              "  </svg>\n",
              "    </button>\n",
              "\n",
              "  <style>\n",
              "    .colab-df-container {\n",
              "      display:flex;\n",
              "      gap: 12px;\n",
              "    }\n",
              "\n",
              "    .colab-df-convert {\n",
              "      background-color: #E8F0FE;\n",
              "      border: none;\n",
              "      border-radius: 50%;\n",
              "      cursor: pointer;\n",
              "      display: none;\n",
              "      fill: #1967D2;\n",
              "      height: 32px;\n",
              "      padding: 0 0 0 0;\n",
              "      width: 32px;\n",
              "    }\n",
              "\n",
              "    .colab-df-convert:hover {\n",
              "      background-color: #E2EBFA;\n",
              "      box-shadow: 0px 1px 2px rgba(60, 64, 67, 0.3), 0px 1px 3px 1px rgba(60, 64, 67, 0.15);\n",
              "      fill: #174EA6;\n",
              "    }\n",
              "\n",
              "    .colab-df-buttons div {\n",
              "      margin-bottom: 4px;\n",
              "    }\n",
              "\n",
              "    [theme=dark] .colab-df-convert {\n",
              "      background-color: #3B4455;\n",
              "      fill: #D2E3FC;\n",
              "    }\n",
              "\n",
              "    [theme=dark] .colab-df-convert:hover {\n",
              "      background-color: #434B5C;\n",
              "      box-shadow: 0px 1px 3px 1px rgba(0, 0, 0, 0.15);\n",
              "      filter: drop-shadow(0px 1px 2px rgba(0, 0, 0, 0.3));\n",
              "      fill: #FFFFFF;\n",
              "    }\n",
              "  </style>\n",
              "\n",
              "    <script>\n",
              "      const buttonEl =\n",
              "        document.querySelector('#df-8189ee27-1532-493d-b825-1a98073802fb button.colab-df-convert');\n",
              "      buttonEl.style.display =\n",
              "        google.colab.kernel.accessAllowed ? 'block' : 'none';\n",
              "\n",
              "      async function convertToInteractive(key) {\n",
              "        const element = document.querySelector('#df-8189ee27-1532-493d-b825-1a98073802fb');\n",
              "        const dataTable =\n",
              "          await google.colab.kernel.invokeFunction('convertToInteractive',\n",
              "                                                    [key], {});\n",
              "        if (!dataTable) return;\n",
              "\n",
              "        const docLinkHtml = 'Like what you see? Visit the ' +\n",
              "          '<a target=\"_blank\" href=https://colab.research.google.com/notebooks/data_table.ipynb>data table notebook</a>'\n",
              "          + ' to learn more about interactive tables.';\n",
              "        element.innerHTML = '';\n",
              "        dataTable['output_type'] = 'display_data';\n",
              "        await google.colab.output.renderOutput(dataTable, element);\n",
              "        const docLink = document.createElement('div');\n",
              "        docLink.innerHTML = docLinkHtml;\n",
              "        element.appendChild(docLink);\n",
              "      }\n",
              "    </script>\n",
              "  </div>\n",
              "\n",
              "\n",
              "<div id=\"df-804ee4b0-4b74-4768-a0e5-7bff2eea9bb8\">\n",
              "  <button class=\"colab-df-quickchart\" onclick=\"quickchart('df-804ee4b0-4b74-4768-a0e5-7bff2eea9bb8')\"\n",
              "            title=\"Suggest charts\"\n",
              "            style=\"display:none;\">\n",
              "\n",
              "<svg xmlns=\"http://www.w3.org/2000/svg\" height=\"24px\"viewBox=\"0 0 24 24\"\n",
              "     width=\"24px\">\n",
              "    <g>\n",
              "        <path d=\"M19 3H5c-1.1 0-2 .9-2 2v14c0 1.1.9 2 2 2h14c1.1 0 2-.9 2-2V5c0-1.1-.9-2-2-2zM9 17H7v-7h2v7zm4 0h-2V7h2v10zm4 0h-2v-4h2v4z\"/>\n",
              "    </g>\n",
              "</svg>\n",
              "  </button>\n",
              "\n",
              "<style>\n",
              "  .colab-df-quickchart {\n",
              "      --bg-color: #E8F0FE;\n",
              "      --fill-color: #1967D2;\n",
              "      --hover-bg-color: #E2EBFA;\n",
              "      --hover-fill-color: #174EA6;\n",
              "      --disabled-fill-color: #AAA;\n",
              "      --disabled-bg-color: #DDD;\n",
              "  }\n",
              "\n",
              "  [theme=dark] .colab-df-quickchart {\n",
              "      --bg-color: #3B4455;\n",
              "      --fill-color: #D2E3FC;\n",
              "      --hover-bg-color: #434B5C;\n",
              "      --hover-fill-color: #FFFFFF;\n",
              "      --disabled-bg-color: #3B4455;\n",
              "      --disabled-fill-color: #666;\n",
              "  }\n",
              "\n",
              "  .colab-df-quickchart {\n",
              "    background-color: var(--bg-color);\n",
              "    border: none;\n",
              "    border-radius: 50%;\n",
              "    cursor: pointer;\n",
              "    display: none;\n",
              "    fill: var(--fill-color);\n",
              "    height: 32px;\n",
              "    padding: 0;\n",
              "    width: 32px;\n",
              "  }\n",
              "\n",
              "  .colab-df-quickchart:hover {\n",
              "    background-color: var(--hover-bg-color);\n",
              "    box-shadow: 0 1px 2px rgba(60, 64, 67, 0.3), 0 1px 3px 1px rgba(60, 64, 67, 0.15);\n",
              "    fill: var(--button-hover-fill-color);\n",
              "  }\n",
              "\n",
              "  .colab-df-quickchart-complete:disabled,\n",
              "  .colab-df-quickchart-complete:disabled:hover {\n",
              "    background-color: var(--disabled-bg-color);\n",
              "    fill: var(--disabled-fill-color);\n",
              "    box-shadow: none;\n",
              "  }\n",
              "\n",
              "  .colab-df-spinner {\n",
              "    border: 2px solid var(--fill-color);\n",
              "    border-color: transparent;\n",
              "    border-bottom-color: var(--fill-color);\n",
              "    animation:\n",
              "      spin 1s steps(1) infinite;\n",
              "  }\n",
              "\n",
              "  @keyframes spin {\n",
              "    0% {\n",
              "      border-color: transparent;\n",
              "      border-bottom-color: var(--fill-color);\n",
              "      border-left-color: var(--fill-color);\n",
              "    }\n",
              "    20% {\n",
              "      border-color: transparent;\n",
              "      border-left-color: var(--fill-color);\n",
              "      border-top-color: var(--fill-color);\n",
              "    }\n",
              "    30% {\n",
              "      border-color: transparent;\n",
              "      border-left-color: var(--fill-color);\n",
              "      border-top-color: var(--fill-color);\n",
              "      border-right-color: var(--fill-color);\n",
              "    }\n",
              "    40% {\n",
              "      border-color: transparent;\n",
              "      border-right-color: var(--fill-color);\n",
              "      border-top-color: var(--fill-color);\n",
              "    }\n",
              "    60% {\n",
              "      border-color: transparent;\n",
              "      border-right-color: var(--fill-color);\n",
              "    }\n",
              "    80% {\n",
              "      border-color: transparent;\n",
              "      border-right-color: var(--fill-color);\n",
              "      border-bottom-color: var(--fill-color);\n",
              "    }\n",
              "    90% {\n",
              "      border-color: transparent;\n",
              "      border-bottom-color: var(--fill-color);\n",
              "    }\n",
              "  }\n",
              "</style>\n",
              "\n",
              "  <script>\n",
              "    async function quickchart(key) {\n",
              "      const quickchartButtonEl =\n",
              "        document.querySelector('#' + key + ' button');\n",
              "      quickchartButtonEl.disabled = true;  // To prevent multiple clicks.\n",
              "      quickchartButtonEl.classList.add('colab-df-spinner');\n",
              "      try {\n",
              "        const charts = await google.colab.kernel.invokeFunction(\n",
              "            'suggestCharts', [key], {});\n",
              "      } catch (error) {\n",
              "        console.error('Error during call to suggestCharts:', error);\n",
              "      }\n",
              "      quickchartButtonEl.classList.remove('colab-df-spinner');\n",
              "      quickchartButtonEl.classList.add('colab-df-quickchart-complete');\n",
              "    }\n",
              "    (() => {\n",
              "      let quickchartButtonEl =\n",
              "        document.querySelector('#df-804ee4b0-4b74-4768-a0e5-7bff2eea9bb8 button');\n",
              "      quickchartButtonEl.style.display =\n",
              "        google.colab.kernel.accessAllowed ? 'block' : 'none';\n",
              "    })();\n",
              "  </script>\n",
              "</div>\n",
              "    </div>\n",
              "  </div>\n"
            ],
            "application/vnd.google.colaboratory.intrinsic+json": {
              "type": "dataframe",
              "variable_name": "metrics",
              "summary": "{\n  \"name\": \"metrics\",\n  \"rows\": 15,\n  \"fields\": [\n    {\n      \"column\": \"loss\",\n      \"properties\": {\n        \"dtype\": \"number\",\n        \"std\": 0.07420001480939202,\n        \"min\": 0.030713701620697975,\n        \"max\": 0.3330259621143341,\n        \"num_unique_values\": 15,\n        \"samples\": [\n          0.0497216172516346,\n          0.05077541992068291,\n          0.3330259621143341\n        ],\n        \"semantic_type\": \"\",\n        \"description\": \"\"\n      }\n    },\n    {\n      \"column\": \"accuracy\",\n      \"properties\": {\n        \"dtype\": \"number\",\n        \"std\": 0.023830856990319147,\n        \"min\": 0.893756628036499,\n        \"max\": 0.9907936453819275,\n        \"num_unique_values\": 15,\n        \"samples\": [\n          0.9852645397186279,\n          0.9847354292869568,\n          0.893756628036499\n        ],\n        \"semantic_type\": \"\",\n        \"description\": \"\"\n      }\n    },\n    {\n      \"column\": \"val_loss\",\n      \"properties\": {\n        \"dtype\": \"number\",\n        \"std\": 0.008897425198409987,\n        \"min\": 0.022325212135910988,\n        \"max\": 0.05957956239581108,\n        \"num_unique_values\": 15,\n        \"samples\": [\n          0.03809206932783127,\n          0.029445761814713478,\n          0.05957956239581108\n        ],\n        \"semantic_type\": \"\",\n        \"description\": \"\"\n      }\n    },\n    {\n      \"column\": \"val_accuracy\",\n      \"properties\": {\n        \"dtype\": \"number\",\n        \"std\": 0.0031028983842192673,\n        \"min\": 0.982619047164917,\n        \"max\": 0.9947618842124939,\n        \"num_unique_values\": 12,\n        \"samples\": [\n          0.991428554058075,\n          0.991190493106842,\n          0.982619047164917\n        ],\n        \"semantic_type\": \"\",\n        \"description\": \"\"\n      }\n    },\n    {\n      \"column\": \"lr\",\n      \"properties\": {\n        \"dtype\": \"float32\",\n        \"num_unique_values\": 2,\n        \"samples\": [\n          0.0005000000237487257,\n          0.0010000000474974513\n        ],\n        \"semantic_type\": \"\",\n        \"description\": \"\"\n      }\n    }\n  ]\n}"
            }
          },
          "metadata": {},
          "execution_count": 27
        }
      ]
    },
    {
      "metadata": {
        "trusted": true,
        "id": "vSGqUsuRErLI",
        "colab": {
          "base_uri": "https://localhost:8080/",
          "height": 430
        },
        "outputId": "25693121-a028-4e4f-c573-c3ea51769c56"
      },
      "cell_type": "code",
      "source": [
        "metrics[['loss' , 'val_loss']].plot()\n",
        "plt.show()"
      ],
      "execution_count": 28,
      "outputs": [
        {
          "output_type": "display_data",
          "data": {
            "text/plain": [
              "<Figure size 640x480 with 1 Axes>"
            ],
            "image/png": "[encoded data removed]"
          },
          "metadata": {}
        }
      ]
    },
    {
      "metadata": {
        "trusted": true,
        "id": "XHdVMUK-ErLI",
        "colab": {
          "base_uri": "https://localhost:8080/",
          "height": 430
        },
        "outputId": "976f19bd-1545-4fec-dfb3-55b7948d3e1d"
      },
      "cell_type": "code",
      "source": [
        "metrics[['accuracy' , 'val_accuracy']].plot()\n",
        "plt.show()"
      ],
      "execution_count": 29,
      "outputs": [
        {
          "output_type": "display_data",
          "data": {
            "text/plain": [
              "<Figure size 640x480 with 1 Axes>"
            ],
            "image/png": "[encoded data removed]"
          },
          "metadata": {}
        }
      ]
    },
    {
      "metadata": {
        "id": "EKwYc_C3ErLI"
      },
      "cell_type": "markdown",
      "source": [
        "<a id=\"section13\"></a>\n",
        "## Accuracy Report"
      ]
    },
    {
      "metadata": {
        "trusted": true,
        "id": "T0HGwRDTErLI",
        "colab": {
          "base_uri": "https://localhost:8080/"
        },
        "outputId": "455766b6-1d73-41db-a918-a0f44d6b3439"
      },
      "cell_type": "code",
      "source": [
        "model.evaluate(x_val_final, y_cat_val, verbose=0)"
      ],
      "execution_count": 30,
      "outputs": [
        {
          "output_type": "execute_result",
          "data": {
            "text/plain": [
              "[0.028111878782510757, 0.9928571581840515]"
            ]
          },
          "metadata": {},
          "execution_count": 30
        }
      ]
    },
    {
      "metadata": {
        "trusted": true,
        "id": "DvCQgLEHErLJ",
        "colab": {
          "base_uri": "https://localhost:8080/"
        },
        "outputId": "00291756-d17d-4c47-abe5-06963b667777"
      },
      "cell_type": "code",
      "source": [
        "import numpy as np\n",
        "\n",
        "# Assuming x_val_final is your input for which you want to predict the classes\n",
        "y_pred_probs = model.predict(x_val_final)\n",
        "\n",
        "# Convert probabilities to class labels\n",
        "y_pred = np.argmax(y_pred_probs, axis=1)\n"
      ],
      "execution_count": 32,
      "outputs": [
        {
          "output_type": "stream",
          "name": "stdout",
          "text": [
            "132/132 [==============================] - 8s 59ms/step\n"
          ]
        }
      ]
    },
    {
      "metadata": {
        "trusted": true,
        "id": "bUIScajtErLJ",
        "colab": {
          "base_uri": "https://localhost:8080/"
        },
        "outputId": "61fe9386-4c4c-49f8-f323-92f54deadf53"
      },
      "cell_type": "code",
      "source": [
        "\n",
        "print('Classification Report')\n",
        "print(classification_report(y_val,y_pred))\n",
        "print('\\n')\n",
        "print('Confusion Matrix')\n",
        "print(confusion_matrix(y_val,y_pred))"
      ],
      "execution_count": 33,
      "outputs": [
        {
          "output_type": "stream",
          "name": "stdout",
          "text": [
            "Classification Report\n",
            "              precision    recall  f1-score   support\n",
            "\n",
            "           0       1.00      0.99      1.00       417\n",
            "           1       1.00      1.00      1.00       476\n",
            "           2       1.00      0.99      1.00       384\n",
            "           3       1.00      0.99      1.00       451\n",
            "           4       0.99      0.99      0.99       391\n",
            "           5       0.98      1.00      0.99       424\n",
            "           6       0.99      0.99      0.99       403\n",
            "           7       0.99      0.99      0.99       470\n",
            "           8       1.00      0.98      0.99       383\n",
            "           9       0.98      0.99      0.99       401\n",
            "\n",
            "    accuracy                           0.99      4200\n",
            "   macro avg       0.99      0.99      0.99      4200\n",
            "weighted avg       0.99      0.99      0.99      4200\n",
            "\n",
            "\n",
            "\n",
            "Confusion Matrix\n",
            "[[414   0   0   0   0   1   2   0   0   0]\n",
            " [  0 474   0   0   0   0   0   2   0   0]\n",
            " [  0   0 381   0   0   0   0   2   1   0]\n",
            " [  0   0   0 447   0   1   0   1   0   2]\n",
            " [  0   1   0   0 389   0   0   0   0   1]\n",
            " [  0   0   0   0   0 423   0   0   0   1]\n",
            " [  0   1   0   0   0   2 400   0   0   0]\n",
            " [  0   0   0   0   0   0   0 467   0   3]\n",
            " [  0   0   0   0   1   2   2   0 377   1]\n",
            " [  0   0   0   0   1   1   0   1   0 398]]\n"
          ]
        }
      ]
    },
    {
      "metadata": {
        "trusted": true,
        "id": "-l9yX3cwErLJ",
        "colab": {
          "base_uri": "https://localhost:8080/",
          "height": 485
        },
        "outputId": "c228cff1-85c6-4194-b0c2-6454062be2fb"
      },
      "cell_type": "code",
      "source": [
        "np.random.seed(22)\n",
        "random_selection = np.random.randint(0, 4201, size=1)\n",
        "random_sample = x_val_final[random_selection]\n",
        "\n",
        "# Correctly using predict and handling the output to get the class prediction\n",
        "predicted_probabilities = model.predict(random_sample.reshape(1, 28, 28, 1))\n",
        "predicted_class = np.argmax(predicted_probabilities, axis=1)[0]\n",
        "\n",
        "print('Prediction:')\n",
        "print(predicted_class)\n",
        "\n",
        "# Plotting the image\n",
        "plt.imshow(random_sample.reshape(28, 28), cmap='binary')\n",
        "plt.show()\n"
      ],
      "execution_count": 35,
      "outputs": [
        {
          "output_type": "stream",
          "name": "stdout",
          "text": [
            "1/1 [==============================] - 0s 36ms/step\n",
            "Prediction:\n",
            "4\n"
          ]
        },
        {
          "output_type": "display_data",
          "data": {
            "text/plain": [
              "<Figure size 640x480 with 1 Axes>"
            ],
            "image/png": "[encoded data removed]"
          },
          "metadata": {}
        }
      ]
    },
    {
      "metadata": {
        "trusted": true,
        "id": "CpSAENmTErLJ",
        "colab": {
          "base_uri": "https://localhost:8080/",
          "height": 485
        },
        "outputId": "dfed732b-0ef3-496a-bc59-de7c7996f0d5"
      },
      "cell_type": "code",
      "source": [
        "np.random.seed(20)\n",
        "random_selection = np.random.randint(0, 4201, size=1)\n",
        "random_sample = x_val_final[random_selection]\n",
        "\n",
        "# Use the model's predict method and then apply np.argmax to find the predicted class\n",
        "predicted_probabilities = model.predict(random_sample.reshape(1, 28, 28, 1))\n",
        "predicted_class = np.argmax(predicted_probabilities, axis=1)[0]\n",
        "\n",
        "print('Prediction:')\n",
        "print(predicted_class)\n",
        "\n",
        "# Plotting the image\n",
        "plt.imshow(random_sample.reshape(28, 28), cmap='binary')\n",
        "plt.show()  # Make sure to call the function with ()\n"
      ],
      "execution_count": 37,
      "outputs": [
        {
          "output_type": "stream",
          "name": "stdout",
          "text": [
            "1/1 [==============================] - 0s 122ms/step\n",
            "Prediction:\n",
            "9\n"
          ]
        },
        {
          "output_type": "display_data",
          "data": {
            "text/plain": [
              "<Figure size 640x480 with 1 Axes>"
            ],
            "image/png": "[encoded data removed]"
          },
          "metadata": {}
        }
      ]
    },
    {
      "metadata": {
        "trusted": true,
        "id": "IFgRB1NbErLJ",
        "colab": {
          "base_uri": "https://localhost:8080/",
          "height": 485
        },
        "outputId": "efa0057e-0f65-4195-8162-9b8f8819cdcf"
      },
      "cell_type": "code",
      "source": [
        "np.random.seed(19)\n",
        "random_selection = np.random.randint(0, 4201, size=1)\n",
        "random_sample = x_val_final[random_selection]\n",
        "\n",
        "# Using model.predict and handling the output properly\n",
        "predicted_probabilities = model.predict(random_sample.reshape(1, 28, 28, 1))\n",
        "predicted_class = np.argmax(predicted_probabilities, axis=1)[0]\n",
        "\n",
        "print('Prediction:')\n",
        "print(predicted_class)\n",
        "\n",
        "# Plotting the image\n",
        "plt.imshow(random_sample.reshape(28, 28), cmap='binary')\n",
        "plt.show()  # Ensuring plt.show() is called to actually display the plot\n"
      ],
      "execution_count": 38,
      "outputs": [
        {
          "output_type": "stream",
          "name": "stdout",
          "text": [
            "1/1 [==============================] - 0s 40ms/step\n",
            "Prediction:\n",
            "1\n"
          ]
        },
        {
          "output_type": "display_data",
          "data": {
            "text/plain": [
              "<Figure size 640x480 with 1 Axes>"
            ],
            "image/png": "[encoded data removed]"
          },
          "metadata": {}
        }
      ]
    },
    {
      "metadata": {
        "trusted": true,
        "id": "T-aZ-kq6ErLJ",
        "colab": {
          "base_uri": "https://localhost:8080/"
        },
        "outputId": "de367e4c-b3c4-4510-b43d-1c5d8f719c79"
      },
      "cell_type": "code",
      "source": [
        "# Reshaping test data\n",
        "x_test = test.values\n",
        "x_test = x_test.reshape(28000,28,28)\n",
        "x_test.shape"
      ],
      "execution_count": 39,
      "outputs": [
        {
          "output_type": "execute_result",
          "data": {
            "text/plain": [
              "(28000, 28, 28)"
            ]
          },
          "metadata": {},
          "execution_count": 39
        }
      ]
    },
    {
      "metadata": {
        "trusted": true,
        "id": "27H5S9kEErLK"
      },
      "cell_type": "code",
      "source": [
        "x_test_scaled=x_test/255"
      ],
      "execution_count": 40,
      "outputs": []
    },
    {
      "metadata": {
        "trusted": true,
        "id": "cO0Ect2XErLK",
        "colab": {
          "base_uri": "https://localhost:8080/"
        },
        "outputId": "3a9d0414-60fa-45bc-b081-ce0d74989f3a"
      },
      "cell_type": "code",
      "source": [
        "import numpy as np\n",
        "\n",
        "# Assuming x_test_scaled is already properly scaled and ready for prediction\n",
        "test_predictions_probs = model.predict(x_test_scaled.reshape(28000, 28, 28, 1))\n",
        "\n",
        "# Converting probability distributions to predicted class indices\n",
        "test_predictions = np.argmax(test_predictions_probs, axis=1)\n"
      ],
      "execution_count": 42,
      "outputs": [
        {
          "output_type": "stream",
          "name": "stdout",
          "text": [
            "875/875 [==============================] - 47s 53ms/step\n"
          ]
        }
      ]
    },
    {
      "metadata": {
        "trusted": true,
        "id": "5jN5eTtNErLK",
        "colab": {
          "base_uri": "https://localhost:8080/"
        },
        "outputId": "aae0ad7b-dae4-44bc-c99b-a552f27ec3bd"
      },
      "cell_type": "code",
      "source": [
        "test_predictions"
      ],
      "execution_count": 43,
      "outputs": [
        {
          "output_type": "execute_result",
          "data": {
            "text/plain": [
              "array([2, 0, 9, ..., 3, 9, 2])"
            ]
          },
          "metadata": {},
          "execution_count": 43
        }
      ]
    },
    {
      "metadata": {
        "id": "CHGfZq1-ErLK"
      },
      "cell_type": "markdown",
      "source": [
        "Let's convert these predictions into a submiitable csv file."
      ]
    },
    {
      "metadata": {
        "trusted": true,
        "id": "UJFTUtfcErLK"
      },
      "cell_type": "code",
      "source": [
        "output=pd.DataFrame({'ImageId':test.index+1,'Label':test_predictions})\n",
        "output.to_csv('new_submission.csv',index=False)"
      ],
      "execution_count": 44,
      "outputs": []
    },
    {
      "cell_type": "code",
      "source": [],
      "metadata": {
        "id": "iFcNIcbT7Hd_"
      },
      "execution_count": null,
      "outputs": []
    }
  ],
  "metadata": {
    "kernelspec": {
      "language": "python",
      "display_name": "Python 3",
      "name": "python3"
    },
    "language_info": {
      "pygments_lexer": "ipython3",
      "nbconvert_exporter": "python",
      "version": "3.6.4",
      "file_extension": ".py",
      "codemirror_mode": {
        "name": "ipython",
        "version": 3
      },
      "name": "python",
      "mimetype": "text/x-python"
    },
    "colab": {
      "provenance": [],
      "include_colab_link": true
    }
  },
  "nbformat": 4,
  "nbformat_minor": 0
}